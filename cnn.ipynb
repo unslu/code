{
 "cells": [
  {
   "cell_type": "code",
   "execution_count": 1,
   "metadata": {},
   "outputs": [],
   "source": [
    "import numpy as np\n",
    "import matplotlib.pyplot as plt"
   ]
  },
  {
   "cell_type": "code",
   "execution_count": 2,
   "metadata": {},
   "outputs": [],
   "source": [
    "class Conv3x3:\n",
    "    \n",
    "    def __init__(self, num_filters):\n",
    "        self.num_filters = num_filters\n",
    "        # для простоты здесь фиксированный размер фильтра 3х3\n",
    "        # веса (фильтры) задаются случайно из нормального распределения\n",
    "        self.filters = np.random.randn(num_filters, 3, 3) / 9\n",
    "        \n",
    "    def iterate_regions(self, image):\n",
    "        # image - 2d массив\n",
    "        h, w = image.shape\n",
    "        \n",
    "        # здесь также учтено, что размер фильтра 3х3\n",
    "        for i in range(h - 2):\n",
    "            for j in range(w - 2):\n",
    "                im_region = image[i:(i + 3), j:(j + 3)]\n",
    "                yield im_region, i, j\n",
    "                \n",
    "    def forward(self, input_im):\n",
    "        # принимает 2d массив\n",
    "        # проход через свёрточный слой\n",
    "        # возвращает 3d массив (h, w, num_filters)\n",
    "        \n",
    "        self.last_input = input_im\n",
    "        \n",
    "        h, w = input_im.shape\n",
    "        output = np.zeros((h - 2, w - 2, self.num_filters))\n",
    "        \n",
    "        for im_region, i, j in self.iterate_regions(input_im):\n",
    "            output[i, j] = np.sum(im_region * self.filters, axis=(1,2))\n",
    "            \n",
    "        return output\n",
    "    \n",
    "    def backprop(self, d_L_d_out, learn_rate):\n",
    "        d_L_d_filters = np.zeros(self.filters.shape)\n",
    "        for im_region, i, j in self.iterate_regions(self.last_input):\n",
    "            for f in range(self.num_filters):\n",
    "                d_L_d_filters[f] += d_L_d_out[i, j, f] * im_region\n",
    "        # Update filters\n",
    "        self.filters -= learn_rate * d_L_d_filters\n",
    "        return None"
   ]
  },
  {
   "cell_type": "code",
   "execution_count": 3,
   "metadata": {},
   "outputs": [],
   "source": [
    "class MaxPool2:\n",
    "    \n",
    "    def iterate_regions(self, image):\n",
    "        h, w, _ = image.shape\n",
    "        new_h = h // 2\n",
    "        new_w = w // 2\n",
    "        \n",
    "        # проходим окном 2х2\n",
    "        for i in range(new_h):\n",
    "            for j in range(new_w):\n",
    "                im_region = image[(i*2):(i*2 + 2), (j*2):(j*2 + 2)]\n",
    "                yield im_region, i, j\n",
    "                \n",
    "    def forward(self, input_im):\n",
    "        # принимает 3d массив\n",
    "        # возвращает 3d массив (h, w, num_filters)\n",
    "        \n",
    "        self.last_input = input_im\n",
    "        \n",
    "        h, w, num_filters = input_im.shape\n",
    "        output = np.zeros((h // 2, w // 2, num_filters))\n",
    "        \n",
    "        for im_region, i, j in self.iterate_regions(input_im):\n",
    "            output[i, j] = np.amax(im_region, axis=(0,1))\n",
    "            \n",
    "        return output\n",
    "    \n",
    "    def backprop(self, d_L_d_out):\n",
    "        d_L_d_input = np.zeros(self.last_input.shape)\n",
    "        for im_region, i, j in self.iterate_regions(self.last_input):\n",
    "            h, w, f = im_region.shape\n",
    "            amax = np.amax(im_region, axis=(0, 1))\n",
    "            \n",
    "            for i2 in range(h):\n",
    "                for j2 in range(w):\n",
    "                    for f2 in range(f):\n",
    "                        # If this pixel was the max value, copy the gradient to it.\n",
    "                        if im_region[i2, j2, f2] == amax[f2]:\n",
    "                            d_L_d_input[i * 2 + i2, j * 2 + j2, f2] = d_L_d_out[i, j, f2]\n",
    "\n",
    "        return d_L_d_input"
   ]
  },
  {
   "cell_type": "code",
   "execution_count": 4,
   "metadata": {},
   "outputs": [],
   "source": [
    "class Softmax:\n",
    "    \n",
    "    def __init__(self, input_len, neurons):\n",
    "        self.weights = np.random.randn(input_len, neurons) / input_len\n",
    "        self.biases = np.zeros(neurons)\n",
    "        \n",
    "    def forward(self, input_im):\n",
    "        # возвращает 1d массив, содержащий вероятности каждого класса\n",
    "        self.last_input_shape = input_im.shape\n",
    "        \n",
    "        input_im = input_im.flatten()\n",
    "        self.last_input = input_im\n",
    "        \n",
    "        input_len, neurons = self.weights.shape\n",
    "        \n",
    "        totals = np.dot(input_im, self.weights) + self.biases\n",
    "        self.last_totals = totals\n",
    "        \n",
    "        exp = np.exp(totals)\n",
    "        return exp / np.sum(exp, axis=0)\n",
    "    \n",
    "    def backprop(self, d_L_d_out, learn_rate):\n",
    "        for i, gradient in enumerate(d_L_d_out):\n",
    "            if gradient == 0:\n",
    "                continue\n",
    "\n",
    "            # e^totals\n",
    "            t_exp = np.exp(self.last_totals)\n",
    "\n",
    "            # Sum of all e^totals\n",
    "            S = np.sum(t_exp)\n",
    "\n",
    "            # Gradients of out[i] against totals\n",
    "            d_out_d_t = -t_exp[i] * t_exp / (S ** 2)\n",
    "            d_out_d_t[i] = t_exp[i] * (S - t_exp[i]) / (S ** 2)\n",
    "\n",
    "            # Gradients of totals against weights/biases/input\n",
    "            d_t_d_w = self.last_input\n",
    "            d_t_d_b = 1\n",
    "            d_t_d_inputs = self.weights\n",
    "\n",
    "            # Gradients of loss against totals\n",
    "            d_L_d_t = gradient * d_out_d_t\n",
    "\n",
    "            # Gradients of loss against weights/biases/input\n",
    "            d_L_d_w = d_t_d_w[np.newaxis].T @ d_L_d_t[np.newaxis]\n",
    "            d_L_d_b = d_L_d_t * d_t_d_b\n",
    "            d_L_d_inputs = d_t_d_inputs @ d_L_d_t\n",
    "\n",
    "            # Update weights / biases\n",
    "            self.weights -= learn_rate * d_L_d_w\n",
    "            self.biases -= learn_rate * d_L_d_b\n",
    "            return d_L_d_inputs.reshape(self.last_input_shape)"
   ]
  },
  {
   "cell_type": "code",
   "execution_count": 5,
   "metadata": {},
   "outputs": [
    {
     "data": {
      "text/plain": [
       "array([[[ 0.02762667,  0.00038796,  0.0858254 ],\n",
       "        [ 0.01223377, -0.05423361,  0.13658151],\n",
       "        [-0.01847857, -0.00847537, -0.02717463]],\n",
       "\n",
       "       [[ 0.10171143, -0.17760547,  0.11768199],\n",
       "        [ 0.10598065, -0.20430087,  0.03510829],\n",
       "        [ 0.06125084,  0.06832674,  0.0739721 ]],\n",
       "\n",
       "       [[-0.08876209, -0.08403359, -0.08609328],\n",
       "        [-0.16191775, -0.13529041, -0.17774089],\n",
       "        [-0.0261523 ,  0.10716447,  0.07161329]]])"
      ]
     },
     "execution_count": 5,
     "metadata": {},
     "output_type": "execute_result"
    }
   ],
   "source": [
    "np.random.randn(3, 3, 3) / 9"
   ]
  },
  {
   "cell_type": "code",
   "execution_count": 6,
   "metadata": {},
   "outputs": [],
   "source": [
    "image = np.array([\n",
    "    [0, 50, 0, 29],\n",
    "    [0, 80, 31, 2],\n",
    "    [33, 90, 0, 75],\n",
    "    [0, 9, 0, 95],\n",
    "])"
   ]
  },
  {
   "cell_type": "code",
   "execution_count": 7,
   "metadata": {},
   "outputs": [],
   "source": [
    "my_filter = np.array([\n",
    "    [-1, 0, 1],\n",
    "    [-2, 0, 2],\n",
    "    [-1, 0, 1],\n",
    "])\n",
    "my_filter = my_filter.reshape(1, 3, 3)"
   ]
  },
  {
   "cell_type": "code",
   "execution_count": 8,
   "metadata": {},
   "outputs": [
    {
     "data": {
      "text/plain": [
       "array([[[  29.],\n",
       "        [-192.]],\n",
       "\n",
       "       [[ -35.],\n",
       "        [ -22.]]])"
      ]
     },
     "execution_count": 8,
     "metadata": {},
     "output_type": "execute_result"
    }
   ],
   "source": [
    "conv_layer = Conv3x3(1)\n",
    "conv_layer.filters = my_filter\n",
    "conv_layer.forward(image)"
   ]
  },
  {
   "cell_type": "code",
   "execution_count": 9,
   "metadata": {},
   "outputs": [],
   "source": [
    "# !pip install mnist"
   ]
  },
  {
   "cell_type": "code",
   "execution_count": 10,
   "metadata": {},
   "outputs": [],
   "source": [
    "import mnist"
   ]
  },
  {
   "cell_type": "code",
   "execution_count": 11,
   "metadata": {},
   "outputs": [],
   "source": [
    "train_images = mnist.train_images()\n",
    "train_labels = mnist.train_labels()"
   ]
  },
  {
   "cell_type": "code",
   "execution_count": 12,
   "metadata": {},
   "outputs": [
    {
     "name": "stdout",
     "output_type": "stream",
     "text": [
      "(26, 26, 8)\n"
     ]
    }
   ],
   "source": [
    "conv = Conv3x3(8)\n",
    "output = conv.forward(train_images[0])\n",
    "print(output.shape)"
   ]
  },
  {
   "cell_type": "code",
   "execution_count": 13,
   "metadata": {},
   "outputs": [
    {
     "data": {
      "text/plain": [
       "(13, 13, 8)"
      ]
     },
     "execution_count": 13,
     "metadata": {},
     "output_type": "execute_result"
    }
   ],
   "source": [
    "pool = MaxPool2()\n",
    "pool.forward(output).shape"
   ]
  },
  {
   "cell_type": "code",
   "execution_count": 14,
   "metadata": {},
   "outputs": [],
   "source": [
    "softmax = Softmax(13*13*8, 10) # 10 классов цифр"
   ]
  },
  {
   "cell_type": "code",
   "execution_count": 15,
   "metadata": {},
   "outputs": [
    {
     "data": {
      "text/plain": [
       "array([0.08669604, 0.03231991, 0.07605854, 0.12974527, 0.22147677,\n",
       "       0.05328741, 0.05463816, 0.0701054 , 0.04547035, 0.23020214])"
      ]
     },
     "execution_count": 15,
     "metadata": {},
     "output_type": "execute_result"
    }
   ],
   "source": [
    "softmax.forward(pool.forward(output))"
   ]
  },
  {
   "cell_type": "code",
   "execution_count": 16,
   "metadata": {},
   "outputs": [
    {
     "data": {
      "text/plain": [
       "<matplotlib.image.AxesImage at 0x7f025b7307f0>"
      ]
     },
     "execution_count": 16,
     "metadata": {},
     "output_type": "execute_result"
    },
    {
     "data": {
      "image/png": "[encoded data removed]",
      "text/plain": [
       "<Figure size 432x288 with 1 Axes>"
      ]
     },
     "metadata": {
      "needs_background": "light"
     },
     "output_type": "display_data"
    }
   ],
   "source": [
    "plt.imshow(train_images[0], cmap='gray')"
   ]
  },
  {
   "cell_type": "markdown",
   "metadata": {},
   "source": [
    "Пример вертикального фильтра Собеля"
   ]
  },
  {
   "cell_type": "code",
   "execution_count": 17,
   "metadata": {},
   "outputs": [
    {
     "data": {
      "text/plain": [
       "<matplotlib.image.AxesImage at 0x7f025b68f370>"
      ]
     },
     "execution_count": 17,
     "metadata": {},
     "output_type": "execute_result"
    },
    {
     "data": {
      "image/png": "[encoded data removed]",
      "text/plain": [
       "<Figure size 432x288 with 1 Axes>"
      ]
     },
     "metadata": {
      "needs_background": "light"
     },
     "output_type": "display_data"
    }
   ],
   "source": [
    "plt.imshow(conv_layer.forward(train_images[0]).reshape(26,26), cmap='gray')"
   ]
  },
  {
   "cell_type": "markdown",
   "metadata": {},
   "source": [
    "Пример горизонтального фильтра Собеля"
   ]
  },
  {
   "cell_type": "code",
   "execution_count": 20,
   "metadata": {},
   "outputs": [],
   "source": [
    "my_filter = np.array([\n",
    "    [-1, 0, 1],\n",
    "    [-2, 0, 2],\n",
    "    [-1, 0, 1],\n",
    "]).T\n",
    "my_filter = my_filter.reshape(1, 3, 3)"
   ]
  },
  {
   "cell_type": "code",
   "execution_count": 21,
   "metadata": {},
   "outputs": [
    {
     "data": {
      "text/plain": [
       "array([[[ 113.],\n",
       "        [  86.]],\n",
       "\n",
       "       [[-173.],\n",
       "        [ -40.]]])"
      ]
     },
     "execution_count": 21,
     "metadata": {},
     "output_type": "execute_result"
    }
   ],
   "source": [
    "conv_layer = Conv3x3(1)\n",
    "conv_layer.filters = my_filter\n",
    "conv_layer.forward(image)"
   ]
  },
  {
   "cell_type": "code",
   "execution_count": 22,
   "metadata": {},
   "outputs": [
    {
     "data": {
      "text/plain": [
       "<matplotlib.image.AxesImage at 0x7f025b55afa0>"
      ]
     },
     "execution_count": 22,
     "metadata": {},
     "output_type": "execute_result"
    },
    {
     "data": {
      "image/png": "[encoded data removed]",
      "text/plain": [
       "<Figure size 432x288 with 1 Axes>"
      ]
     },
     "metadata": {
      "needs_background": "light"
     },
     "output_type": "display_data"
    }
   ],
   "source": [
    "plt.imshow(conv_layer.forward(train_images[0]).reshape(26,26), cmap='gray')"
   ]
  },
  {
   "cell_type": "markdown",
   "metadata": {},
   "source": [
    "Просто выделение границ"
   ]
  },
  {
   "cell_type": "code",
   "execution_count": 23,
   "metadata": {},
   "outputs": [],
   "source": [
    "my_filter = np.array([\n",
    "    [0, 1, 0],\n",
    "    [1, -4, 1],\n",
    "    [0, 1, 0],\n",
    "])\n",
    "my_filter = my_filter.reshape(1, 3, 3)"
   ]
  },
  {
   "cell_type": "code",
   "execution_count": 24,
   "metadata": {},
   "outputs": [
    {
     "data": {
      "text/plain": [
       "array([[[-149.],\n",
       "        [ -42.]],\n",
       "\n",
       "       [[-238.],\n",
       "        [ 196.]]])"
      ]
     },
     "execution_count": 24,
     "metadata": {},
     "output_type": "execute_result"
    }
   ],
   "source": [
    "conv_layer = Conv3x3(1)\n",
    "conv_layer.filters = my_filter\n",
    "conv_layer.forward(image)"
   ]
  },
  {
   "cell_type": "code",
   "execution_count": 25,
   "metadata": {},
   "outputs": [
    {
     "data": {
      "text/plain": [
       "<matplotlib.image.AxesImage at 0x7f025b535850>"
      ]
     },
     "execution_count": 25,
     "metadata": {},
     "output_type": "execute_result"
    },
    {
     "data": {
      "image/png": "[encoded data removed]",
      "text/plain": [
       "<Figure size 432x288 with 1 Axes>"
      ]
     },
     "metadata": {
      "needs_background": "light"
     },
     "output_type": "display_data"
    }
   ],
   "source": [
    "plt.imshow(conv_layer.forward(train_images[0]).reshape(26,26), cmap='gray')"
   ]
  },
  {
   "cell_type": "markdown",
   "metadata": {},
   "source": [
    "### Нейросеть с обучением для классификации"
   ]
  },
  {
   "cell_type": "code",
   "execution_count": 26,
   "metadata": {},
   "outputs": [],
   "source": [
    "def mnist_preprocessing(image, label, lr=0.005):\n",
    "    out = conv.forward((image / 255) - 0.5)\n",
    "    out = pool.forward(out)\n",
    "    \n",
    "    out = softmax.forward(out)\n",
    "    \n",
    "    gradient = np.zeros(10)\n",
    "    gradient[label] = -1 / out[label]\n",
    "    \n",
    "    gradient = softmax.backprop(gradient, lr)\n",
    "    gradient = pool.backprop(gradient)\n",
    "    gradient = conv.backprop(gradient, lr)\n",
    "    \n",
    "    loss = -np.log(out[label])\n",
    "    acc = 1 if np.argmax(out) == label else 0\n",
    "    \n",
    "    return out, loss, acc"
   ]
  },
  {
   "cell_type": "code",
   "execution_count": 27,
   "metadata": {},
   "outputs": [],
   "source": [
    "test_images = mnist.test_images()[:1000]\n",
    "test_labels = mnist.test_labels()[:1000]"
   ]
  },
  {
   "cell_type": "code",
   "execution_count": 28,
   "metadata": {},
   "outputs": [],
   "source": [
    "permutation = np.random.permutation(len(train_images))\n",
    "train_images = train_images[permutation]\n",
    "train_labels = train_labels[permutation]"
   ]
  },
  {
   "cell_type": "code",
   "execution_count": 29,
   "metadata": {},
   "outputs": [
    {
     "name": "stdout",
     "output_type": "stream",
     "text": [
      "[Step 100] Past 100 steps: Average Loss 2.204 | Accuracy: 20%\n",
      "[Step 200] Past 100 steps: Average Loss 1.939 | Accuracy: 39%\n",
      "[Step 300] Past 100 steps: Average Loss 1.381 | Accuracy: 54%\n",
      "[Step 400] Past 100 steps: Average Loss 1.181 | Accuracy: 60%\n",
      "[Step 500] Past 100 steps: Average Loss 0.961 | Accuracy: 69%\n",
      "[Step 600] Past 100 steps: Average Loss 0.971 | Accuracy: 63%\n",
      "[Step 700] Past 100 steps: Average Loss 0.886 | Accuracy: 69%\n",
      "[Step 800] Past 100 steps: Average Loss 0.563 | Accuracy: 81%\n",
      "[Step 900] Past 100 steps: Average Loss 0.461 | Accuracy: 88%\n",
      "[Step 1000] Past 100 steps: Average Loss 0.649 | Accuracy: 77%\n",
      "CPU times: user 2min 42s, sys: 5min 41s, total: 8min 24s\n",
      "Wall time: 1min 4s\n"
     ]
    }
   ],
   "source": [
    "%%time\n",
    "loss = 0\n",
    "num_correct = 0\n",
    "for i, (im, label) in enumerate(zip(test_images, test_labels)):\n",
    "  # Do a forward pass.\n",
    "    _, l, acc = mnist_preprocessing(im, label)\n",
    "    loss += l\n",
    "    num_correct += acc\n",
    "    \n",
    "    if (i+1) % 100 == 0:\n",
    "        print(\n",
    "            '[Step %d] Past 100 steps: Average Loss %.3f | Accuracy: %d%%' %\n",
    "            (i + 1, loss / 100, num_correct)\n",
    "        )\n",
    "        loss = 0\n",
    "        num_correct = 0"
   ]
  },
  {
   "cell_type": "code",
   "execution_count": 30,
   "metadata": {},
   "outputs": [],
   "source": [
    "def forward(image, label):\n",
    "    '''\n",
    "    Completes a forward pass of the CNN and calculates the accuracy and\n",
    "    cross-entropy loss.\n",
    "    - image is a 2d numpy array\n",
    "    - label is a digit\n",
    "    '''\n",
    "    # We transform the image from [0, 255] to [-0.5, 0.5] to make it easier\n",
    "    # to work with. This is standard practice.\n",
    "    out = conv.forward((image / 255) - 0.5)\n",
    "    out = pool.forward(out)\n",
    "    out = softmax.forward(out)\n",
    "\n",
    "    # Calculate cross-entropy loss and accuracy. np.log() is the natural log.\n",
    "    loss = -np.log(out[label])\n",
    "    acc = 1 if np.argmax(out) == label else 0\n",
    "\n",
    "    return out, loss, acc"
   ]
  },
  {
   "cell_type": "code",
   "execution_count": 31,
   "metadata": {},
   "outputs": [
    {
     "name": "stdout",
     "output_type": "stream",
     "text": [
      "\n",
      "--- Testing the CNN ---\n",
      "Test Loss: 0.5420497326083827\n",
      "Test Accuracy: 0.814\n"
     ]
    }
   ],
   "source": [
    "print('\\n--- Testing the CNN ---')\n",
    "loss = 0\n",
    "num_correct = 0\n",
    "for im, label in zip(test_images, test_labels):\n",
    "    _, l, acc = forward(im, label)\n",
    "    loss += l\n",
    "    num_correct += acc\n",
    "\n",
    "num_tests = len(test_images)\n",
    "print('Test Loss:', loss / num_tests)\n",
    "print('Test Accuracy:', num_correct / num_tests)"
   ]
  },
  {
   "cell_type": "code",
   "execution_count": null,
   "metadata": {},
   "outputs": [],
   "source": []
  }
 ],
 "metadata": {
  "kernelspec": {
   "display_name": "Python 3",
   "language": "python",
   "name": "python3"
  },
  "language_info": {
   "codemirror_mode": {
    "name": "ipython",
    "version": 3
   },
   "file_extension": ".py",
   "mimetype": "text/x-python",
   "name": "python",
   "nbconvert_exporter": "python",
   "pygments_lexer": "ipython3",
   "version": "3.8.5"
  }
 },
 "nbformat": 4,
 "nbformat_minor": 4
}
